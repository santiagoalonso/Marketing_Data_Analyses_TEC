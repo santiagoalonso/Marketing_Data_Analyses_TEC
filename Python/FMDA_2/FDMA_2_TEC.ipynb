{
 "cells": [
  {
   "cell_type": "markdown",
   "id": "e6dd507a-bef7-430d-9506-7bad3c9c9afc",
   "metadata": {},
   "source": [
    "# Libraries"
   ]
  },
  {
   "cell_type": "code",
   "execution_count": 2,
   "id": "6c67a096-fa1c-4a14-bab2-27025ea95ebc",
   "metadata": {},
   "outputs": [],
   "source": [
    "import pandas as pd\n",
    "import numpy as np\n",
    "import seaborn as sns"
   ]
  },
  {
   "cell_type": "markdown",
   "id": "c6e40039-d701-4cfa-b8ab-937d2a3076ad",
   "metadata": {},
   "source": [
    "# Load and explore DATA"
   ]
  },
  {
   "cell_type": "markdown",
   "id": "f776fbb6-52c9-446c-ade1-fcc81e41f7aa",
   "metadata": {},
   "source": [
    "Let's look for external data, download it, load it in Python, and explore it.\n",
    "* Mean\n",
    "* Min\n",
    "* Max\n",
    "* Std\n",
    "* Percentiles\n",
    "* Plot(s)"
   ]
  },
  {
   "cell_type": "markdown",
   "id": "19af4205-4915-4e76-b5c0-592f0f904e67",
   "metadata": {},
   "source": [
    "# Exercise (load + explore)\n",
    "Find external data, download it, load it in Python, and explore it\n",
    "\n",
    "* Mean\n",
    "* Min\n",
    "* Max\n",
    "* Std\n",
    "* Percentiles\n",
    "* Plot(s)"
   ]
  },
  {
   "cell_type": "code",
   "execution_count": null,
   "id": "c2bc9d5e-478c-4b72-ab47-ec59b66efe00",
   "metadata": {},
   "outputs": [],
   "source": []
  }
 ],
 "metadata": {
  "kernelspec": {
   "display_name": "Python 3 (ipykernel)",
   "language": "python",
   "name": "python3"
  },
  "language_info": {
   "codemirror_mode": {
    "name": "ipython",
    "version": 3
   },
   "file_extension": ".py",
   "mimetype": "text/x-python",
   "name": "python",
   "nbconvert_exporter": "python",
   "pygments_lexer": "ipython3",
   "version": "3.11.8"
  }
 },
 "nbformat": 4,
 "nbformat_minor": 5
}
